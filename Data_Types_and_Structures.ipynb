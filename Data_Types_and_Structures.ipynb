{
  "nbformat": 4,
  "nbformat_minor": 0,
  "metadata": {
    "colab": {
      "provenance": []
    },
    "kernelspec": {
      "name": "python3",
      "display_name": "Python 3"
    },
    "language_info": {
      "name": "python"
    }
  },
  "cells": [
    {
      "cell_type": "markdown",
      "source": [
        "1. What are data structures and why are they important?\n",
        " - A data structure is way of formatting data so it can be accessed by a computer program. They allow us to efficiently store,and transform data according to various use cases."
      ],
      "metadata": {
        "id": "OYJ4_54UlDhD"
      }
    },
    {
      "cell_type": "markdown",
      "source": [
        "2. Explain the difference between mutable and immutable data types with examples\n",
        "  - In Python, mutable data types like list, dict, and set can be changed after creation. That means if you add, remove, or update their elements, the original object stays the same. For example:\n",
        "\n",
        "      ```\n",
        "      lst = [1, 2, 3]\n",
        "      print(id(lst))     \n",
        "\n",
        "      lst.append(4)       # same object, content changed IN-PLACE\n",
        "      print(id(lst))      #  (address unchanged)\n",
        "      print(lst)          # [1, 2, 3, 4]\n",
        "      The list object itself is altered, so its identity (id) stays the same\n",
        "      ```\n",
        "  On the other hand, immutable data types like int, float, str, and tuple   cannot be changed once they are created. Any update creates a new object in memory.For example:\n",
        "\n",
        "\n",
        "                  ```\n",
        "                  s = \"hello\"\n",
        "                  print(id(s))        # (some address)\n",
        "\n",
        "                  s = s + \" world\"    # concatenation creates a NEW string object\n",
        "                  print(id(s))        # (different address)\n",
        "                  ```\n"
      ],
      "metadata": {
        "id": "WABMSfYuTSPW"
      }
    },
    {
      "cell_type": "markdown",
      "source": [
        "3. What are the main differences between lists and tuples in Python\n",
        " - In Python, lists and tuples are both used to store collections of items, but they differ in key ways.\n",
        "\n",
        "    A list is mutable, meaning you can change, add, or remove items after it's created. It uses square brackets like [1, 2, 3]. Lists are commonly used when the data is expected to change.\n",
        "\n",
        "    A tuple is immutable, meaning once it's created, its contents cannot be changed. It uses round brackets like (1, 2, 3). Tuples are used when you want to protect data from being modified, such as coordinates or fixed settings.\n",
        "\n",
        "    Tuples are slightly faster and take up less memory than lists, making them a good choice for fixed data."
      ],
      "metadata": {
        "id": "7M6RwberdGG6"
      }
    },
    {
      "cell_type": "markdown",
      "source": [
        "4. Describe how dictionaries store data?\n",
        " - In Python, a dictionary stores data in the form of key-value pairs.  \n",
        "\n",
        "    Dictionaries are useful because you can quickly find any value just by using its key. The keys must be unique and unchangeable, but the values can be anything — numbers, words, even other lists.\n",
        "\n",
        "    Internally, Python uses a hash table to store dictionaries. It converts each key into a unique number (called a hash), which helps quickly find or insert the value.\n",
        "\n",
        "\n",
        "\n",
        "              ```\n",
        "                mySelf = {\"name\": \"Kushagra\", \"age\": 37}\n",
        "              ```          \n",
        "\n"
      ],
      "metadata": {
        "id": "wwvHeCH3ahCe"
      }
    },
    {
      "cell_type": "markdown",
      "source": [
        "5. Why might you use a set instead of a list in Python?\n",
        " - In Python, we might use a set instead of a list when we want to store a collection of unique items and don’t care about their order. Also, checking if an item is present in a set is faster than in a list, especially when the data is large. Set automatically deletes duplicates."
      ],
      "metadata": {
        "id": "b4x9B3eqiIHW"
      }
    },
    {
      "cell_type": "markdown",
      "source": [
        "6. What is a string in Python, and how is it different from a list?\n",
        " - In Python, a string is a sequence of characters (letters, numbers, symbols and spaces) enclosed in quotes. Immutable\n",
        " - A list, is a collection of items that can be of different types, like numbers, strings, or even other lists. Mutable\n",
        " - A string is immutable character data; a list is a flexible, mutable container that can hold anything."
      ],
      "metadata": {
        "id": "hTEeAC6Ni4fs"
      }
    },
    {
      "cell_type": "markdown",
      "source": [
        "7. How do tuples ensure data integrity in Python?\n",
        "  - Tuples ensure data integrity in Python because they are immutable, meaning their values cannot be changed after creation.\n",
        "  Once we store data in a tuple, it stays exactly the same. This is useful when we want to protect data from accidental changes, especially in cases like:\n",
        "\n",
        "      Coordinates (x, y)\n",
        "\n",
        "      Dates (day, month, year)\n",
        "\n",
        "      Settings or fixed values\n",
        "\n",
        "\n",
        "              ```\n",
        "              # Using tuples as dictionary keys for a coordinate system\n",
        "               grid = {(0, 0): \"origin\", (1, 1): \"northeast\", (-1, -1): \"southwest\"}\n",
        "\n",
        "              ```\n",
        "\n"
      ],
      "metadata": {
        "id": "Y7vwPCJplI0D"
      }
    },
    {
      "cell_type": "markdown",
      "source": [
        "8. What is a hash table, and how does it relate to dictionaries in Python\n",
        " - A hash table is a fundamental data structure that stores key-value pairs using a hash function to compute an index (or \"hash code\") where each value should be stored in an underlying array. Python dictionaries are the language's implementation of hash tables.\n",
        " When we create a dictionary like\n",
        "\n",
        "        ```\n",
        "            mySelf = {\"name\": \"Kushagra\", \"age\": 37}\n",
        "        ```\n",
        "      Python uses the hash of the key (\"name\" or \"age\") to decide where to store the value in memory. That’s why finding a value with a key (like student[\"name\"]) is very fast — even if the dictionary is huge.\n",
        "\n",
        "      So, the hash table is what makes Python dictionaries powerful: they allow fast lookup, addition, and deletion of key-value pairs."
      ],
      "metadata": {
        "id": "EEVx-sL0vm2b"
      }
    },
    {
      "cell_type": "markdown",
      "source": [
        "9. Can lists contain different data types in Python?\n",
        " - In Python, lists can contain different data types in the same list. This is one of the powerful features of Python lists.\n",
        "\n",
        "\n",
        "            ```\n",
        "            # my_list = [1, \"hello\", 3.14, True, [5, 6]]\n",
        "              print(my_list)\n",
        "            ```"
      ],
      "metadata": {
        "id": "7yZ0xtq_0nUg"
      }
    },
    {
      "cell_type": "markdown",
      "source": [
        " 10. Explain why strings are immutable in Python\n",
        " - Python strings are immutable so they can be\n",
        "safe (unchangeable keys in dictionaries/sets),\n",
        "safe to share (many variables can point at the same string without fear of side-effects), and\n",
        "memory-efficient (the interpreter can freely reuse and cache them).\n",
        "Immutable strings are inherently thread-safe. Multiple threads can safely read from the same string without synchronization.\n",
        "String immutability aligns with Python's philosophy of \"explicit is better than implicit\" by making it clear when new objects are created versus when existing objects are modified.\n",
        "\n"
      ],
      "metadata": {
        "id": "FEnJhGwb1JrJ"
      }
    },
    {
      "cell_type": "markdown",
      "source": [
        "11. What advantages do dictionaries offer over lists for certain tasks?\n",
        "  - Dictionaries offer significant advantages over lists for specific types of tasks, primarily due to their key-based access model and hash table implementation.\n",
        "  \n",
        "      1. **Lightning-fast look-ups**  \n",
        "        - List: `if x in my_list:` can scan every element (O(n)).  \n",
        "        - Dict: `value = my_dict[key]` is one hash jump (average O(1)).\n",
        "\n",
        "      2. **Meaningful labels instead of positions**  \n",
        "        - `price[\"apple\"]` is clearer and safer than `price[0]`.  \n",
        "        - Order might change later; labels don’t.\n",
        "\n",
        "      3. **No duplicates on the label**  \n",
        "        - Each key appears once, so updating or counting is a single assignment: `count[word] += 1`.\n",
        "\n",
        "      Typical jobs where dictionaries shine  \n",
        "      - Caching (memoization)  \n",
        "      - Frequency counts and histograms  \n",
        "      - Storing record-like data (JSON-like objects)  \n",
        "      - Fast membership tests with extra data attached      "
      ],
      "metadata": {
        "id": "SFTBGdg2_CMr"
      }
    },
    {
      "cell_type": "markdown",
      "source": [
        "12. Describe a scenario where using a tuple would be preferable over a list\n",
        " - We use a tuple when we want to store a fixed set of values that should not change.\n",
        " For example geographical coordinates of:\n",
        "\n",
        "\n",
        "```\n",
        "coordinates = (28.6139, 77.2090) #lattitude and longitude of Delhi\n",
        "```"
      ],
      "metadata": {
        "id": "aTgYeHaGCY_6"
      }
    },
    {
      "cell_type": "markdown",
      "source": [
        "13. How do sets handle duplicate values in Python?\n",
        " - Set automatically deletes duplicate values. When we add elements to a set, it only keeps unique values, no matter how many duplicates we try to add.\n",
        "\n",
        "```\n",
        " my_set = {1, 2, 2, 3, 4, 4, 4, 5}\n",
        " print(my_set) # {1,2,3,4,5}\n",
        "\n",
        "```\n",
        "\n"
      ],
      "metadata": {
        "id": "YpiKxYiyDB2E"
      }
    },
    {
      "cell_type": "markdown",
      "source": [
        "14. How does the “in” keyword work differently for lists and dictionaries\n",
        " -  In lists, in looks for values.\n",
        "    In dictionaries, in looks for keys only — not values.\n",
        "\n",
        "       If we want to check if a value exists in a dictionary:\n",
        "\n",
        "\n",
        "\n",
        "              ```\n",
        "              'x' in dict1.values()  # True/False\n",
        "              ```\n"
      ],
      "metadata": {
        "id": "fBG5m8qDDysL"
      }
    },
    {
      "cell_type": "markdown",
      "source": [
        "15. Can you modify the elements of a tuple? Explain why or why not\n",
        " - No, we cannot modify the elements of a tuple in Python — because tuples are immutable.\n",
        "Once a tuple is created, we cannot change, add, or delete its elements. The structure and contents remain fixed."
      ],
      "metadata": {
        "id": "-aGyaGauEiwt"
      }
    },
    {
      "cell_type": "markdown",
      "source": [
        "16. What is a nested dictionary, and give an example of its use case\n",
        "  - A nested dictionary is a dictionary inside another dictionary. It lets us organize complex data in a structured way, like a mini-database(json). One can build a studnent management system like this:\n",
        "\n",
        "\n",
        "                ```\n",
        "                students = {\n",
        "                              \"Kush\": {\"age\": 20, \"grade\": \"A\"},\n",
        "                              \"Kannagi\": {\"age\": 22, \"grade\": \"B\"},\n",
        "                            }\n",
        "\n",
        "                ```             \n",
        "\n"
      ],
      "metadata": {
        "id": "U6afHQ0eFmuu"
      }
    },
    {
      "cell_type": "markdown",
      "source": [
        "17. Describe the time complexity of accessing elements in a dictionary\n",
        "   - Accessing elements in a Python dictionary is generally:\n",
        "       Time Complexity: O(1) — Constant Time. Dictionaries are implemented using hash tables\n",
        "\n",
        "       Python:\n",
        "\n",
        "        Calculates the hash of the key.\n",
        "\n",
        "        Goes directly to the memory location where the value is stored.\n",
        "\n",
        "        Returns the value in constant time, regardless of dictionary size."
      ],
      "metadata": {
        "id": "SOgrNrcTG56w"
      }
    },
    {
      "cell_type": "markdown",
      "source": [
        "18. In what situations are lists preferred over dictionaries\n",
        "  - Lists are preferred over dictionaries in several key situations where ordered sequences, numerical indexing, or specific data operations are more important than key-based lookups.\n",
        "\n",
        "\n",
        "        *   Ordered Data and Sequential Processing\n",
        "        *   Mathematical and Statistical Operations Lists are designed for numerical computations and bulk operations\n",
        "        *   Positional/Index-Based Access -when data naturally maps to positions or indices, lists are more intuitive(like days of the week).\n",
        "        *   Stack and Queue Operations - Lists provide efficient stack operations and reasonable queue functionality\n",
        "        *   Slicing and Range Operations - Lists support powerful slicing  operations that dictionaries cannot match"
      ],
      "metadata": {
        "id": "6i64odf2Jw6W"
      }
    },
    {
      "cell_type": "markdown",
      "source": [
        "19. Why are dictionaries considered unordered, and how does that affect data retrieval\n",
        " - Dictionaries are considered unordered because they’re based on hashing, not positions. We can’t access values by index, only by key. We retrieve data using keys, not their order. This makes lookups fast but not position-based."
      ],
      "metadata": {
        "id": "Trkvg9bHLbD3"
      }
    },
    {
      "cell_type": "markdown",
      "source": [
        "20. Explain the difference between a list and a dictionary in terms of data retrieval.\n",
        "- Lists store data in a specific order and we access items using their index (position), like list[0].\n",
        "Dictionaries store data as key-value pairs, and you access items using their keys, like dict[\"name\"].\n",
        "Lists are useful when the order matters, while dictionaries are better when we want to label and quickly access data by a specific name or identifier."
      ],
      "metadata": {
        "id": "BaVpmhSIigBr"
      }
    },
    {
      "cell_type": "markdown",
      "source": [],
      "metadata": {
        "id": "WdKjrVdQLGU8"
      }
    },
    {
      "cell_type": "code",
      "execution_count": 32,
      "metadata": {
        "colab": {
          "base_uri": "https://localhost:8080/"
        },
        "id": "HQD03DZlkLAv",
        "outputId": "e717190b-2022-4626-e241-5d294d80dfc2"
      },
      "outputs": [
        {
          "output_type": "stream",
          "name": "stdout",
          "text": [
            "My name is Kushagra\n"
          ]
        }
      ],
      "source": [
        "#Code to create a string with your name and print it\n",
        "myName=\"Kushagra\"\n",
        "print(\"My name is\", myName)"
      ]
    },
    {
      "cell_type": "code",
      "source": [
        "#Code to find the length of the string \"Hello World\"\n",
        "hello_string=\"Hello World\"\n",
        "print(\"The length of the string 'Hello World' is\", len(hello_string))"
      ],
      "metadata": {
        "colab": {
          "base_uri": "https://localhost:8080/"
        },
        "id": "X0JM7gLJk0KE",
        "outputId": "be72b6b2-9c9b-451c-ad96-f9fd327959d8"
      },
      "execution_count": 33,
      "outputs": [
        {
          "output_type": "stream",
          "name": "stdout",
          "text": [
            "The length of the string 'Hello World' is 11\n"
          ]
        }
      ]
    },
    {
      "cell_type": "code",
      "source": [
        "#Code to slice the first 3 characters from the string \"Python Programming\"\n",
        "python_string=\"Python Programming\"\n",
        "print(\"The first 3 characters of the string 'Python Programming' are\", python_string[:3])"
      ],
      "metadata": {
        "colab": {
          "base_uri": "https://localhost:8080/"
        },
        "id": "b9OH1jL7oouO",
        "outputId": "cf684cb3-22dc-49b2-9036-d278af802144"
      },
      "execution_count": 34,
      "outputs": [
        {
          "output_type": "stream",
          "name": "stdout",
          "text": [
            "The first 3 characters of the string 'Python Programming' are Pyt\n"
          ]
        }
      ]
    },
    {
      "cell_type": "code",
      "source": [
        "#Code to convert the string \"hello\" to uppercase\n",
        "hello_string=\"hello\"\n",
        "print(\"The uppercase of the string 'hello' is\", hello_string.upper())\n",
        "\n"
      ],
      "metadata": {
        "colab": {
          "base_uri": "https://localhost:8080/"
        },
        "id": "NX2Qm8D8pN4K",
        "outputId": "bb478882-9fb6-40cb-ec75-8fe8067c0e42"
      },
      "execution_count": 35,
      "outputs": [
        {
          "output_type": "stream",
          "name": "stdout",
          "text": [
            "The uppercase of the string 'hello' is HELLO\n"
          ]
        }
      ]
    },
    {
      "cell_type": "code",
      "source": [
        "#Code to replace the word \"apple\" with \"orange\" in the string \"I like apple\"\n",
        "fruit_string=\"I like apple\"\n",
        "print(fruit_string.replace(\"apple\", \"orange\"))"
      ],
      "metadata": {
        "colab": {
          "base_uri": "https://localhost:8080/"
        },
        "id": "f6LITYocqr79",
        "outputId": "ea564a9a-862d-471c-9777-5fcefa4f7831"
      },
      "execution_count": 36,
      "outputs": [
        {
          "output_type": "stream",
          "name": "stdout",
          "text": [
            "I like orange\n"
          ]
        }
      ]
    },
    {
      "cell_type": "code",
      "source": [
        "#Write a code to create a list with numbers 1 to 5 and print it\n",
        "\n",
        "l5=[l for l in range(1,6)]\n",
        "print(l5)"
      ],
      "metadata": {
        "colab": {
          "base_uri": "https://localhost:8080/"
        },
        "id": "x5JLwmsardB6",
        "outputId": "9f561bca-7331-4776-c4c8-8a379c9322cc"
      },
      "execution_count": 37,
      "outputs": [
        {
          "output_type": "stream",
          "name": "stdout",
          "text": [
            "[1, 2, 3, 4, 5]\n"
          ]
        }
      ]
    },
    {
      "cell_type": "code",
      "source": [
        "#Code to append the number 10 to the list [1, 2, 3, 4]\n",
        "l2=[1,2,3,4]\n",
        "l2.append(10)\n",
        "print(l2)\n"
      ],
      "metadata": {
        "colab": {
          "base_uri": "https://localhost:8080/"
        },
        "id": "slQiEmrwsRhN",
        "outputId": "6cdffe26-214a-4a7f-8203-fbb349e9000e"
      },
      "execution_count": 38,
      "outputs": [
        {
          "output_type": "stream",
          "name": "stdout",
          "text": [
            "[1, 2, 3, 4, 10]\n"
          ]
        }
      ]
    },
    {
      "cell_type": "code",
      "source": [
        "#Code to remove the number 3 from the list [1, 2, 3, 4, 5]\n",
        "l3=[1,2,3,4,5]\n",
        "l3.remove(3)\n",
        "print(l3)"
      ],
      "metadata": {
        "colab": {
          "base_uri": "https://localhost:8080/"
        },
        "id": "rrW1dYQytSMu",
        "outputId": "062a227a-be53-4e64-9555-e10974718938"
      },
      "execution_count": 39,
      "outputs": [
        {
          "output_type": "stream",
          "name": "stdout",
          "text": [
            "[1, 2, 4, 5]\n"
          ]
        }
      ]
    },
    {
      "cell_type": "code",
      "source": [
        "#Code to access second element in the list[a,b,c,d]\n",
        "l4=['a','b','c','d']\n",
        "print(l4[1])"
      ],
      "metadata": {
        "colab": {
          "base_uri": "https://localhost:8080/"
        },
        "id": "9oTaqewCvdY2",
        "outputId": "d68cad28-2693-4698-ef56-3db4e6b39a7b"
      },
      "execution_count": 40,
      "outputs": [
        {
          "output_type": "stream",
          "name": "stdout",
          "text": [
            "b\n"
          ]
        }
      ]
    },
    {
      "cell_type": "code",
      "source": [
        "#Code to reverse the list [10, 20, 30, 40, 50]\n",
        "list1=[10,20,30,40,50]\n",
        "list1.reverse()\n",
        "print(list1)\n"
      ],
      "metadata": {
        "colab": {
          "base_uri": "https://localhost:8080/"
        },
        "id": "k0o2TWC7wFwk",
        "outputId": "d7b05edb-075f-4f19-f2dd-f4ac9da80300"
      },
      "execution_count": 41,
      "outputs": [
        {
          "output_type": "stream",
          "name": "stdout",
          "text": [
            "[50, 40, 30, 20, 10]\n"
          ]
        }
      ]
    },
    {
      "cell_type": "code",
      "source": [
        "#Code to create a tuple with the elements 100, 200, 300 and print it\n",
        "tuple1=(100,200,300)\n",
        "print(tuple1)"
      ],
      "metadata": {
        "colab": {
          "base_uri": "https://localhost:8080/"
        },
        "id": "dPTenSvExdcj",
        "outputId": "49fc3dbe-ad8d-43f4-d5a8-7e97312d4a80"
      },
      "execution_count": 42,
      "outputs": [
        {
          "output_type": "stream",
          "name": "stdout",
          "text": [
            "(100, 200, 300)\n"
          ]
        }
      ]
    },
    {
      "cell_type": "code",
      "source": [
        "#Code to access the second-to-last element of the tuple ('red', 'green', 'blue', 'yellow')\n",
        "tuple2=('red', 'green', 'blue', 'yellow')\n",
        "print(tuple2[-2])"
      ],
      "metadata": {
        "colab": {
          "base_uri": "https://localhost:8080/"
        },
        "id": "Z4-rzZ8dyOQV",
        "outputId": "a792f66e-2578-4820-ab8e-bb28ce8668dc"
      },
      "execution_count": 43,
      "outputs": [
        {
          "output_type": "stream",
          "name": "stdout",
          "text": [
            "blue\n"
          ]
        }
      ]
    },
    {
      "cell_type": "code",
      "source": [
        "#Code to find the minimum number in the tuple (10, 20, 5, 15)\n",
        "tuple3=(10,20,5,15)\n",
        "print(sorted(tuple3)[0])\n",
        "tuple3"
      ],
      "metadata": {
        "colab": {
          "base_uri": "https://localhost:8080/"
        },
        "id": "9aZf1rXIyq6j",
        "outputId": "ca74f14e-01b8-4550-d6ed-ece1d0b1e3d0"
      },
      "execution_count": 44,
      "outputs": [
        {
          "output_type": "stream",
          "name": "stdout",
          "text": [
            "5\n"
          ]
        },
        {
          "output_type": "execute_result",
          "data": {
            "text/plain": [
              "(10, 20, 5, 15)"
            ]
          },
          "metadata": {},
          "execution_count": 44
        }
      ]
    },
    {
      "cell_type": "code",
      "source": [
        "#Code to find the index of the element \"cat\" in the tuple ('dog', 'cat', 'rabbit')\n",
        "tuple4=('dog', 'cat', 'rabbit')\n",
        "print(tuple4.index('cat'))"
      ],
      "metadata": {
        "colab": {
          "base_uri": "https://localhost:8080/"
        },
        "id": "gI4TYJ-61m_D",
        "outputId": "e5606563-7dcf-49e2-e7d5-1307f88887f5"
      },
      "execution_count": 45,
      "outputs": [
        {
          "output_type": "stream",
          "name": "stdout",
          "text": [
            "1\n"
          ]
        }
      ]
    },
    {
      "cell_type": "code",
      "source": [
        "#Code to create a tuple containing three different fruits and check if \"kiwi\" is in it.\n",
        "tfruits=('apple','kiwi','mango')\n",
        "print('kiwi' in tfruits)"
      ],
      "metadata": {
        "colab": {
          "base_uri": "https://localhost:8080/"
        },
        "id": "-uS8C8nL2a8D",
        "outputId": "6b16bd86-f1e0-42a1-e1bf-a42ef116825a"
      },
      "execution_count": 46,
      "outputs": [
        {
          "output_type": "stream",
          "name": "stdout",
          "text": [
            "True\n"
          ]
        }
      ]
    },
    {
      "cell_type": "code",
      "source": [
        "#Code to create a set with the elements 'a', 'b', 'c' and print it\n",
        "s={'a','b','c'}\n",
        "print(s)"
      ],
      "metadata": {
        "colab": {
          "base_uri": "https://localhost:8080/"
        },
        "id": "XGNsIA9c3Hcb",
        "outputId": "1287006c-ee01-4bbe-8329-6bba5be190c1"
      },
      "execution_count": 47,
      "outputs": [
        {
          "output_type": "stream",
          "name": "stdout",
          "text": [
            "{'c', 'a', 'b'}\n"
          ]
        }
      ]
    },
    {
      "cell_type": "code",
      "source": [
        "#code to clear all elements from the set {1, 2, 3, 4, 5}\n",
        "s1={1,2,3,4,5}\n",
        "s1.clear()\n",
        "print(s1)\n"
      ],
      "metadata": {
        "colab": {
          "base_uri": "https://localhost:8080/"
        },
        "id": "eNpj7myU35o4",
        "outputId": "36d03f31-7a25-49d7-b5cf-088eae55c0b6"
      },
      "execution_count": 48,
      "outputs": [
        {
          "output_type": "stream",
          "name": "stdout",
          "text": [
            "set()\n"
          ]
        }
      ]
    },
    {
      "cell_type": "code",
      "source": [
        "#Code to remove the element 4 from the set {1, 2, 3, 4}\n",
        "s1={1,2,3,4}\n",
        "s1.remove(4)\n",
        "s1"
      ],
      "metadata": {
        "colab": {
          "base_uri": "https://localhost:8080/"
        },
        "id": "_xuCxLkyhMOh",
        "outputId": "338e56f6-ffcb-4fdd-a609-bbb3ea167aab"
      },
      "execution_count": 49,
      "outputs": [
        {
          "output_type": "execute_result",
          "data": {
            "text/plain": [
              "{1, 2, 3}"
            ]
          },
          "metadata": {},
          "execution_count": 49
        }
      ]
    },
    {
      "cell_type": "code",
      "source": [
        "#Code to find the union of two sets {1, 2, 3} and {3, 4, 5}\n",
        "s2={3,4,5}\n",
        "s1.union(s2)"
      ],
      "metadata": {
        "colab": {
          "base_uri": "https://localhost:8080/"
        },
        "id": "C0VJYV3AiM_I",
        "outputId": "d6e6a8d2-9097-466b-b4ff-61420a683aaa"
      },
      "execution_count": 50,
      "outputs": [
        {
          "output_type": "execute_result",
          "data": {
            "text/plain": [
              "{1, 2, 3, 4, 5}"
            ]
          },
          "metadata": {},
          "execution_count": 50
        }
      ]
    },
    {
      "cell_type": "code",
      "source": [
        "#Code to find the intersection of two sets {1, 2, 3} and {2, 3, 4}.(\n",
        "s3 ={2,3,4}\n",
        "s1.intersection(s3)"
      ],
      "metadata": {
        "colab": {
          "base_uri": "https://localhost:8080/"
        },
        "id": "vll81exmjctp",
        "outputId": "a47127a1-a98d-4693-c8f6-17d6cd159253"
      },
      "execution_count": 51,
      "outputs": [
        {
          "output_type": "execute_result",
          "data": {
            "text/plain": [
              "{2, 3}"
            ]
          },
          "metadata": {},
          "execution_count": 51
        }
      ]
    },
    {
      "cell_type": "code",
      "source": [
        "# Code to create a dictionary with the keys \"name\", \"age\", and \"city\", and print it\n",
        "d1={\"name\":\"Kushagra\",\"age\":37,\"city\":\"Bhopal\"}\n",
        "print(d1)\n",
        "type(d1)"
      ],
      "metadata": {
        "colab": {
          "base_uri": "https://localhost:8080/"
        },
        "id": "-m13Z_YYjzvh",
        "outputId": "09637085-8f0e-40d4-e567-7d6d4dfce045"
      },
      "execution_count": 52,
      "outputs": [
        {
          "output_type": "stream",
          "name": "stdout",
          "text": [
            "{'name': 'Kushagra', 'age': 37, 'city': 'Bhopal'}\n"
          ]
        },
        {
          "output_type": "execute_result",
          "data": {
            "text/plain": [
              "dict"
            ]
          },
          "metadata": {},
          "execution_count": 52
        }
      ]
    },
    {
      "cell_type": "code",
      "source": [
        "#Code to add a new key-value pair \"country\": \"USA\" to the dictionary {'name': 'John', 'age': 25}.\n",
        "d2={\"name\":\"John\", \"age\": 25}\n",
        "d2[\"country\"]=\"USA\"\n",
        "d2"
      ],
      "metadata": {
        "colab": {
          "base_uri": "https://localhost:8080/"
        },
        "id": "oGOVP3qskkz2",
        "outputId": "51f6db62-5901-4556-a544-77e828ea3486"
      },
      "execution_count": 53,
      "outputs": [
        {
          "output_type": "execute_result",
          "data": {
            "text/plain": [
              "{'name': 'John', 'age': 25, 'country': 'USA'}"
            ]
          },
          "metadata": {},
          "execution_count": 53
        }
      ]
    },
    {
      "cell_type": "code",
      "source": [
        "# code to access the value associated with the key \"name\" in the dictionary {'name': 'Alice', 'age': 30}\n",
        "d3={'name': 'Alice', 'age': 30}\n",
        "d3[\"name\"]"
      ],
      "metadata": {
        "colab": {
          "base_uri": "https://localhost:8080/",
          "height": 35
        },
        "id": "tk1G0k54le1v",
        "outputId": "8b1421be-7767-48b9-ff92-63dbefc9c2d9"
      },
      "execution_count": 54,
      "outputs": [
        {
          "output_type": "execute_result",
          "data": {
            "text/plain": [
              "'Alice'"
            ],
            "application/vnd.google.colaboratory.intrinsic+json": {
              "type": "string"
            }
          },
          "metadata": {},
          "execution_count": 54
        }
      ]
    },
    {
      "cell_type": "code",
      "source": [
        "# code to remove the key \"age\" from the dictionary {'name': 'Bob', 'age': 22, 'city': 'New York'}\n",
        "d4={'name': 'Bob', 'age': 22, 'city': 'New York'}\n",
        "d4.pop(\"age\")\n",
        "d4"
      ],
      "metadata": {
        "colab": {
          "base_uri": "https://localhost:8080/"
        },
        "id": "ZiBNoXD7mLvq",
        "outputId": "3a460b58-0d73-4b24-893c-2b5f7567d71b"
      },
      "execution_count": 55,
      "outputs": [
        {
          "output_type": "execute_result",
          "data": {
            "text/plain": [
              "{'name': 'Bob', 'city': 'New York'}"
            ]
          },
          "metadata": {},
          "execution_count": 55
        }
      ]
    },
    {
      "cell_type": "code",
      "source": [
        "#code to check if the key \"city\" exists in the dictionary {'name': 'Alice', 'city': 'Paris'}.\n",
        "d5={'name': 'Alice', 'city': 'Paris'}\n",
        "print(\"city\" in d5)"
      ],
      "metadata": {
        "colab": {
          "base_uri": "https://localhost:8080/"
        },
        "id": "IJ8QUlr1m_Oc",
        "outputId": "cc8fb273-336e-4e67-acc6-8a9a81c7090e"
      },
      "execution_count": 56,
      "outputs": [
        {
          "output_type": "stream",
          "name": "stdout",
          "text": [
            "True\n"
          ]
        }
      ]
    },
    {
      "cell_type": "code",
      "source": [
        "#code to create a list, a tuple, and a dictionary, and print them all\n",
        "my_list=[1,2,3,4,5]\n",
        "my_tuple=('a','b','c','d','e')\n",
        "my_dict={\"name\":\"Kushagra\",\"age\":37,\"city\":\"Bhopal\"}\n",
        "print(my_list)\n",
        "print(my_tuple)\n",
        "print(my_dict)\n",
        ""
      ],
      "metadata": {
        "colab": {
          "base_uri": "https://localhost:8080/"
        },
        "id": "eozNBK5Nodsl",
        "outputId": "78a11264-22a0-4e40-ceec-9b59b763a090"
      },
      "execution_count": 57,
      "outputs": [
        {
          "output_type": "stream",
          "name": "stdout",
          "text": [
            "[1, 2, 3, 4, 5]\n",
            "('a', 'b', 'c', 'd', 'e')\n",
            "{'name': 'Kushagra', 'age': 37, 'city': 'Bhopal'}\n"
          ]
        }
      ]
    },
    {
      "cell_type": "code",
      "source": [
        "#Code to create  a list of 5 randon noumbers between 1 & 100, sorted in ascending order, and print the result(replaced)\n",
        "import random\n",
        "random_list= random.sample(range(1,101),5)\n",
        "random_list.sort()\n",
        "print(random_list)"
      ],
      "metadata": {
        "colab": {
          "base_uri": "https://localhost:8080/"
        },
        "id": "CNRmfujGq2Os",
        "outputId": "ac5c6b18-66f9-4bc0-b3ad-6c09ae44ca4b"
      },
      "execution_count": 58,
      "outputs": [
        {
          "output_type": "stream",
          "name": "stdout",
          "text": [
            "[13, 31, 53, 80, 98]\n"
          ]
        }
      ]
    },
    {
      "cell_type": "code",
      "source": [
        "#code to create a list with strings and print the element at the third index\n",
        "list1=[\"a\",\"b\",\"c\",\"d\",\"e\"]\n",
        "print(list1[3])"
      ],
      "metadata": {
        "colab": {
          "base_uri": "https://localhost:8080/"
        },
        "id": "20mP-hoWtgAo",
        "outputId": "e3de6522-0a71-49f8-b8fb-2d2fbd128315"
      },
      "execution_count": 59,
      "outputs": [
        {
          "output_type": "stream",
          "name": "stdout",
          "text": [
            "d\n"
          ]
        }
      ]
    },
    {
      "cell_type": "code",
      "source": [
        "#code to combine two dictionaries into one and print the result.\n",
        "diction = {'a':1,'b':2}\n",
        "diction2 = {'c':3,'d':4}\n",
        "diction.update(diction2)\n",
        "print(diction)\n"
      ],
      "metadata": {
        "colab": {
          "base_uri": "https://localhost:8080/"
        },
        "id": "vxcwqKPzttY1",
        "outputId": "a07559cb-039c-4076-a4aa-677723f36d1b"
      },
      "execution_count": 60,
      "outputs": [
        {
          "output_type": "stream",
          "name": "stdout",
          "text": [
            "{'a': 1, 'b': 2, 'c': 3, 'd': 4}\n"
          ]
        }
      ]
    },
    {
      "cell_type": "code",
      "source": [
        "#code to convert a list of strings into a set\n",
        "set9 = set(list1)\n",
        "print(set9)"
      ],
      "metadata": {
        "colab": {
          "base_uri": "https://localhost:8080/"
        },
        "id": "h2KTeP3Jun5x",
        "outputId": "2c13e8cd-90d6-4df8-cbc1-fd810c82f8e1"
      },
      "execution_count": 61,
      "outputs": [
        {
          "output_type": "stream",
          "name": "stdout",
          "text": [
            "{'b', 'a', 'd', 'e', 'c'}\n"
          ]
        }
      ]
    }
  ]
}