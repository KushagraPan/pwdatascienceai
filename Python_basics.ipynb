{
  "nbformat": 4,
  "nbformat_minor": 0,
  "metadata": {
    "colab": {
      "provenance": []
    },
    "kernelspec": {
      "name": "python3",
      "display_name": "Python 3"
    },
    "language_info": {
      "name": "python"
    }
  },
  "cells": [
    {
      "cell_type": "markdown",
      "source": [
        "#Python Basics\n"
      ],
      "metadata": {
        "id": "slG3Tdl-MlJH"
      }
    },
    {
      "cell_type": "markdown",
      "source": [
        "1.What is Python, and why is it popular\n",
        " - Python is a high level interepretable programming language designed to be easy to read and write. Its simplicity and readibility makes it a favourite among programmers. Popularity- its syntax mimics natural language; its very versatile and used in various domains like machine learning, data science, web development, IOT, automation etc; itc cross platform( windows, linux macos) compatible and integrates well tih other programming languages; it has a rich eco-system of libraries and frameworks.\n",
        "\n",
        "2.What is an interpreter in Python\n",
        " - An interpreter is a program than executes python proogram line by line into machine readable language than executes them without compling it into machine code first.\n",
        "\n",
        "3.What are pre-defined keywords in Python\n",
        " - Words in python that have a specific meaning and specific purpose, which can't be used as variables functions or any other identifier.\n",
        "\n",
        "4.Can keywords be used as variable names ?\n",
        "  - No they can't be used as variable names. They are reserved for specific usage.\n",
        "\n",
        "5.What is mutability in Python ?\n",
        " - Mutability means changing the state or content of the object after it has been initialised. Here the memory address typically remains the same despite the change. Lists, sets dictionaries are examples.\n",
        "\n",
        "6.Why are lists mutable, but tuples are immutable ?\n",
        " - Lists once created can be modified. its elements can be changed or new elememts added. Its stored as a dymanic array. Whereas in tuples no modification is possible as the memory has been fixed.\n",
        "\n",
        "7.What is the difference between “==” and “is” operators in Python\n",
        " - \"==\" check for equality of values between two variables whereas the \"is\" operator checks for equality of \"identity\"  '==' operator is sued to compare  int, str types to check their equality wheras 'is' operators is used to identify if the two variables point to the same memory address or not.\n",
        "\n",
        "8.What are logical operators in Python\n",
        " - Logical operations performed on boolean values, generally applied with conditional statements to control the flow of the program. They are 'OR' 'AND'\n",
        " 'NOT'. 'OR' returns true if either or both the values are true and false if both are false. 'AND' returns true only if both the values are true and false if both or either are false. 'NOT' retruns true if the value is true and vice versa.\n",
        "\n",
        "9.What is type casting in Python\n",
        "- Also known as type conversion where the type of variable is changed to another data type for operations. Like a string which represents a numeric value is converted to integer for operations like addition.\n",
        "\n",
        "10.What is the difference between implicit and explicit type casting\n",
        " - Impilcit type casting is done automatically by the interpreter to perform operations without data loss-like when an integer is added to a float, the integer is converted to float automatically to enable the operation without data loss. In explicit type casting a program explicitly converts a value from one dat atype to another using built in functions. Like int() converts a value to integer. similarly float() for converting to float, str() to string etc.\n",
        "\n",
        "11.What is the purpose of conditional statements in Python  \n",
        " - It enables decision making in a program- enables exectuion certain blocks of code based on conditions provided by the programmer. Real world decisons like checking age or checking or gender or different tax rates are impmlemented using conditional statements.\n",
        "\n",
        "12.How does the elif statement work\n",
        " - elif statement is short for else if it is used in conjunction with if statement for multiple conditions:\n",
        "                                    if condition1:\n",
        "                                     code\n",
        "                                    elif condition2:\n",
        "                                     code\n",
        "                                    elif condiiton3:\n",
        "                                     code\n",
        "                                    else:\n",
        "                                     code\n",
        "\n",
        "13.What is the difference between for and while loops\n",
        "  - While is used for n number of iterations based on a condition-where we don't know the number of iterations until the condition is fulfiled; whereas for loop is used when we kwow the number of iterations before hand.\n",
        "\n",
        "14.Describe a scenario where a while loop is more suitable than a for loop.\n",
        " - While lopp is used when we don't know the number of iterations before hand like searching for an item in a list or when we asking for login credentials   or a specific user input when the number of attempts are unknown, or when we are trying to extablish a connection with a network and th number of attempts are not known."
      ],
      "metadata": {
        "id": "DlqVIrP_MwJD"
      }
    },
    {
      "cell_type": "markdown",
      "source": [],
      "metadata": {
        "id": "EZYbzaADRX5W"
      }
    },
    {
      "cell_type": "code",
      "source": [
        "#1. Python program to print \"Hello, World!\n",
        "print(\"Hello, World!\")"
      ],
      "metadata": {
        "id": "WNmMpuLpYbTX"
      },
      "execution_count": null,
      "outputs": []
    },
    {
      "cell_type": "code",
      "source": [
        "# 2.  Python program that displays your name and age\n",
        "myName = 'Kushagra'\n",
        "myAge = 37\n",
        "print(\"My name is\", myName, \"and my age is\", myAge)\n"
      ],
      "metadata": {
        "colab": {
          "base_uri": "https://localhost:8080/"
        },
        "id": "uUUTSkV-Ywyu",
        "outputId": "3870ed36-73c9-4bcb-a671-9afba9cf9633"
      },
      "execution_count": 5,
      "outputs": [
        {
          "output_type": "stream",
          "name": "stdout",
          "text": [
            "My name is Kushagra and my age is 37\n"
          ]
        }
      ]
    },
    {
      "cell_type": "code",
      "source": [
        "# 3. To print all the pre-defined keywords in Python using the keyword library\n",
        "import keyword\n",
        "print(keyword.kwlist)"
      ],
      "metadata": {
        "collapsed": true,
        "id": "koYWpX2eacW4"
      },
      "execution_count": null,
      "outputs": []
    },
    {
      "cell_type": "code",
      "source": [
        "# 4. A program that checks if a given word is a Python keyword\n",
        "import keyword\n",
        "word = input(\"Enter a word: \")\n",
        "if word in keyword.kwlist:\n",
        "    print(word, \"is a Python keyword.\")\n",
        "else:\n",
        "    print(word, \"is not a Python keyword.\")\n",
        "\n"
      ],
      "metadata": {
        "colab": {
          "base_uri": "https://localhost:8080/"
        },
        "id": "FfJtcoa5bpDn",
        "outputId": "89ad9f15-4357-4299-8e06-fd96f13cdd85"
      },
      "execution_count": 13,
      "outputs": [
        {
          "output_type": "stream",
          "name": "stdout",
          "text": [
            "Enter a word: None\n",
            "None is a Python keyword.\n"
          ]
        }
      ]
    },
    {
      "cell_type": "code",
      "source": [
        "'''5. Create a list and tuple in Python, and demonstrate how attempting to change an element works differently\n",
        "for each'''\n",
        "myList = [1,2,3,4,5]\n",
        "print(myList)\n",
        "myTuple = (1,2,3,4,5)\n",
        "print(myTuple)\n",
        "myList[0] = 10\n",
        "print(myList)\n",
        "# myTuple[0] = 10\n",
        "# TypeError: 'tuple' object does not support item assignment\n",
        "''' We have to convert tuple to list and then convert it back to tuple to change the element as tuple is immutable'''\n",
        "myTuple = list(myTuple)\n",
        "myTuple[0] = 10\n",
        "myTuple = tuple(myTuple)\n",
        "print(myTuple)"
      ],
      "metadata": {
        "collapsed": true,
        "id": "llXD7v122K6_"
      },
      "execution_count": null,
      "outputs": []
    },
    {
      "cell_type": "code",
      "source": [
        "# 6. A function to demonstrate the behavior of mutable and immutable arguments\n",
        "my_list = [1,2,3,4,5]\n",
        "my_tuple = (1,2,3,4,5)\n",
        "def mutability(mutable, immutable):\n",
        "    mutable.append(10)\n",
        "    try:\n",
        "        immutable[0] = 20\n",
        "    except TypeError as e:\n",
        "        print(\"Error \",e)\n",
        "\n",
        "mutability(my_list, my_tuple)\n",
        "print(my_list)\n",
        "print(my_tuple)"
      ],
      "metadata": {
        "id": "q9CJp-2-5Xsp"
      },
      "execution_count": null,
      "outputs": []
    },
    {
      "cell_type": "code",
      "source": [
        "# 7. Program that performs basic arithmetic operations on two user-input numbers\n",
        "num1 = int(input(\"Enter first number:\"))\n",
        "num2 = int(input(\"Enter second number:\"))\n",
        "print(\"Addition: \", num1 + num2)\n",
        "print(\"Subtraction: \", num1 - num2)\n",
        "print(\"Multiplication: \", num1 * num2)"
      ],
      "metadata": {
        "id": "xs8-P3ut9R36"
      },
      "execution_count": null,
      "outputs": []
    },
    {
      "cell_type": "code",
      "source": [
        "# 8. Program to demonstrate the use of logical operators\n",
        "a = True\n",
        "b = False\n",
        "print(\"a and b:\", a and b)  # Logical AND\n",
        "print(\"a or b:\", a or b)    # Logical OR\n",
        "print(\"not a:\", not a)       # Logical NOT\n",
        "print(\"not b:\", not b)\n",
        "\n"
      ],
      "metadata": {
        "id": "OqyMqcxw985s"
      },
      "execution_count": null,
      "outputs": []
    },
    {
      "cell_type": "code",
      "source": [
        "# 9. A Python program to convert user input from string to integer, float, and\n",
        "# boolean types.\n",
        "number1 = input(\"Enter a number:\")\n",
        "print(type(number1))\n",
        "number1 = int(number1)\n",
        "print(type(number1))\n",
        "number1 = float(number1)\n",
        "print(type(number1))\n",
        "bool_input= input(\"Enter True or False:\")\n",
        "print(type(bool_input))\n",
        "bool_input = bool(bool_input)\n",
        "print(type(bool_input))\n"
      ],
      "metadata": {
        "colab": {
          "base_uri": "https://localhost:8080/"
        },
        "collapsed": true,
        "id": "l8Kv8by__yMO",
        "outputId": "942709e0-6dd5-4304-be12-17fe2c0d5252"
      },
      "execution_count": 10,
      "outputs": [
        {
          "output_type": "stream",
          "name": "stdout",
          "text": [
            "Enter a number:2\n",
            "<class 'str'>\n",
            "<class 'int'>\n",
            "<class 'float'>\n",
            "Enter True or False:true\n",
            "<class 'str'>\n",
            "<class 'bool'>\n"
          ]
        }
      ]
    },
    {
      "cell_type": "code",
      "source": [
        "# 10. code to demonstrate type casting with list elements.\n",
        "list_cast = [1,'kush',3.0]\n",
        "print(list_cast)\n",
        "for i in range(3):\n",
        "    print(type(list_cast[i]))\n",
        "    list_cast[i] = str(list_cast[i])\n",
        "    print(type(list_cast[i]))\n",
        "print(list_cast)"
      ],
      "metadata": {
        "id": "-UH1vwROCpN8"
      },
      "execution_count": null,
      "outputs": []
    },
    {
      "cell_type": "code",
      "source": [
        " # 11. A program that checks if a number is positive, negative, or zero\n",
        "num = int(input(\"Enter a number: \"))\n",
        "if num > 0:\n",
        "    print(\"The number is positive.\")\n",
        "elif num < 0:\n",
        "    print(\"The number is negative.\")\n",
        "else:\n",
        "    print(\"The number is zero.\")\n",
        "\n"
      ],
      "metadata": {
        "id": "em7QmExtG5j7"
      },
      "execution_count": null,
      "outputs": []
    },
    {
      "cell_type": "code",
      "source": [
        "# 12. Write a for loop to print numbers from 1 to 10.\n",
        "for i in range(1,11):\n",
        "    print(i)"
      ],
      "metadata": {
        "id": "1Cg6zD5fHgz4"
      },
      "execution_count": null,
      "outputs": []
    },
    {
      "cell_type": "code",
      "source": [
        "# 13. Python program to find the sum of all even numbers between 1 and 50.\n",
        "sum=0\n",
        "for i in range(2,51,2):\n",
        "  sum=sum+i\n",
        "\n",
        "print(sum)\n"
      ],
      "metadata": {
        "id": "SEKUGPu8IF-9"
      },
      "execution_count": null,
      "outputs": []
    },
    {
      "cell_type": "code",
      "source": [
        "# 14. A program to reverse a string using a while loop.\n",
        "str1 = 'hello world'\n",
        "print(str1)\n",
        "str1=str1[::-1]\n",
        "print(str1)\n",
        "\n",
        "\n"
      ],
      "metadata": {
        "id": "2Qp7OEtRML8i"
      },
      "execution_count": null,
      "outputs": []
    },
    {
      "cell_type": "code",
      "source": [
        "# 15. Python program to calculate the factorial of a number provided by the user using a while loop\n",
        "fact= int(input(\"Enter a number: \"))\n",
        "for i in range(1,fact):\n",
        "  fact=fact*i\n",
        "print(fact)"
      ],
      "metadata": {
        "id": "cyDrVk3CNr3B"
      },
      "execution_count": null,
      "outputs": []
    }
  ]
}